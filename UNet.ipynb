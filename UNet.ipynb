{
  "nbformat": 4,
  "nbformat_minor": 0,
  "metadata": {
    "accelerator": "GPU",
    "colab": {
      "name": "UNet.ipynb",
      "provenance": [],
      "collapsed_sections": [],
      "toc_visible": true
    },
    "kernelspec": {
      "display_name": "Python 3",
      "name": "python3"
    }
  },
  "cells": [
    {
      "cell_type": "markdown",
      "metadata": {
        "id": "pUNEn3t4ueKi"
      },
      "source": [
        "# UNet \r\n",
        "\r\n",
        "Código de la red basada en: https://github.com/zhixuhao/unet"
      ]
    },
    {
      "cell_type": "markdown",
      "metadata": {
        "id": "36GsI2aoq-ZZ"
      },
      "source": [
        "## Importar paquetes necesarios"
      ]
    },
    {
      "cell_type": "code",
      "metadata": {
        "id": "QeLXWgPA2G99"
      },
      "source": [
        "import matplotlib.pyplot as plt\r\n",
        "from skimage import data,io,color\r\n",
        "from skimage.filters import threshold_otsu,median,gaussian\r\n",
        "import numpy as np\r\n",
        "from tensorflow_addons.image.distance_transform import euclidean_dist_transform\r\n",
        "from tensorflow.image import convert_image_dtype\r\n",
        "import tensorflow as tf\r\n",
        "from sklearn.model_selection import (StratifiedShuffleSplit,GridSearchCV,ShuffleSplit)\r\n",
        "from sklearn.metrics import (accuracy_score, recall_score, precision_score,\r\n",
        "                             confusion_matrix, f1_score)\r\n",
        "from tensorflow.keras.preprocessing.image import ImageDataGenerator\r\n",
        "from torch.utils.data import Dataset, DataLoader, Subset\r\n",
        "\r\n",
        "import cv2\r\n",
        "from sklearn.neighbors import NearestNeighbors\r\n",
        "import os\r\n",
        "from PIL import Image\r\n",
        "import glob\r\n",
        "\r\n",
        "from subprocess import getoutput\r\n",
        "import gc\r\n",
        "from torch.utils.data import Dataset, DataLoader, Subset"
      ],
      "execution_count": null,
      "outputs": []
    },
    {
      "cell_type": "code",
      "metadata": {
        "id": "IZ6TN0iR6unT"
      },
      "source": [
        "import skimage.transform as trans\r\n",
        "from keras.models import *\r\n",
        "from keras.layers import *\r\n",
        "from keras.optimizers import *\r\n",
        "from keras.metrics import *\r\n",
        "from keras.callbacks import ModelCheckpoint, LearningRateScheduler\r\n",
        "from keras import backend as keras"
      ],
      "execution_count": null,
      "outputs": []
    },
    {
      "cell_type": "markdown",
      "metadata": {
        "id": "4yJqswGGATka"
      },
      "source": [
        "### Habilitar GPU on Colab\r\n",
        "Es necesario habilitar el entorno de GPU \r\n",
        "\r\n",
        "Navegar a Editar-Configuración del cuaderno\r\n",
        "\r\n",
        "Seleccionar GPU"
      ]
    },
    {
      "cell_type": "code",
      "metadata": {
        "id": "YtDMG5BNAcy1"
      },
      "source": [
        "import torch\r\n",
        "\r\n",
        "if not torch.cuda.is_available():\r\n",
        "  raise Exception(\"GPU not available. CPU training will be too slow.\")\r\n",
        "\r\n",
        "print(\"device name:\", torch.cuda.get_device_name(0))"
      ],
      "execution_count": null,
      "outputs": []
    },
    {
      "cell_type": "code",
      "metadata": {
        "colab": {
          "base_uri": "https://localhost:8080/"
        },
        "id": "xGjD7GQR83c1",
        "outputId": "8b69b569-063e-4a29-f78c-f5dc36b56fe2"
      },
      "source": [
        "from google.colab import drive\r\n",
        "drive.mount('/content/drive')"
      ],
      "execution_count": null,
      "outputs": [
        {
          "output_type": "stream",
          "text": [
            "Mounted at /content/drive\n"
          ],
          "name": "stdout"
        }
      ]
    },
    {
      "cell_type": "markdown",
      "metadata": {
        "id": "IxGYrFNkqbhE"
      },
      "source": [
        "En caso de que no se tenga descomprimido el archivo"
      ]
    },
    {
      "cell_type": "code",
      "metadata": {
        "id": "sGITVqeGTaPW"
      },
      "source": [
        "!unzip -uq \"/content/drive/MyDrive/ImagenesVision/Bipbip.zip\" -d \"/content/drive/MyDrive/ImagenesVision/Bipbip\""
      ],
      "execution_count": null,
      "outputs": []
    },
    {
      "cell_type": "markdown",
      "metadata": {
        "id": "lPCNWorwquy1"
      },
      "source": [
        "Metrica de Jaccard o Intersección sobre Unión"
      ]
    },
    {
      "cell_type": "code",
      "metadata": {
        "id": "Ad9ysafoi9dk"
      },
      "source": [
        "def jaccard_distance(y_true, y_pred, smooth=100):\r\n",
        "    intersection = keras.sum(keras.abs(y_true * y_pred), axis=-1)\r\n",
        "    sum_ = keras.sum(keras.abs(y_true) + keras.abs(y_pred), axis=-1)\r\n",
        "    jac = (intersection + smooth) / (sum_ - intersection + smooth)\r\n",
        "    return jac"
      ],
      "execution_count": null,
      "outputs": []
    },
    {
      "cell_type": "markdown",
      "metadata": {
        "id": "Af4TLnqpq1YB"
      },
      "source": [
        "### Creación de la red UNet"
      ]
    },
    {
      "cell_type": "code",
      "metadata": {
        "id": "o3cG9I4P64Fn"
      },
      "source": [
        "def unet2(pretrained_weights = None,input_size = (512,1024,3)):\r\n",
        "    inputs = Input(input_size)\r\n",
        "    conv1 = Conv2D(32, 3, activation = 'relu', padding = 'same', kernel_initializer = 'he_normal')(inputs)\r\n",
        "    conv1 = Conv2D(32, 3, activation = 'relu', padding = 'same', kernel_initializer = 'he_normal')(conv1)\r\n",
        "    conv1 = Conv2D(64, 3, activation = 'relu', padding = 'same', kernel_initializer = 'he_normal')(conv1)\r\n",
        "    conv1 = Conv2D(64, 3, activation = 'relu', padding = 'same', kernel_initializer = 'he_normal')(conv1)\r\n",
        "    pool1 = MaxPooling2D(pool_size=(2, 2))(conv1)\r\n",
        "    conv2 = Conv2D(128, 3, activation = 'relu', padding = 'same', kernel_initializer = 'he_normal')(pool1)\r\n",
        "    conv2 = Conv2D(128, 3, activation = 'relu', padding = 'same', kernel_initializer = 'he_normal')(conv2)\r\n",
        "    pool2 = MaxPooling2D(pool_size=(2, 2))(conv2)\r\n",
        "    conv3 = Conv2D(256, 3, activation = 'relu', padding = 'same', kernel_initializer = 'he_normal')(pool2)\r\n",
        "    conv3 = Conv2D(256, 3, activation = 'relu', padding = 'same', kernel_initializer = 'he_normal')(conv3)\r\n",
        "    pool3 = MaxPooling2D(pool_size=(2, 2))(conv3)\r\n",
        "    conv4 = Conv2D(512, 3, activation = 'relu', padding = 'same', kernel_initializer = 'he_normal')(pool3)\r\n",
        "    conv4 = Conv2D(512, 3, activation = 'relu', padding = 'same', kernel_initializer = 'he_normal')(conv4)\r\n",
        "    drop4 = Dropout(0.5)(conv4)\r\n",
        "    pool4 = MaxPooling2D(pool_size=(2, 2))(drop4)\r\n",
        "\r\n",
        "    conv5 = Conv2D(1024, 3, activation = 'relu', padding = 'same', kernel_initializer = 'he_normal')(pool4)\r\n",
        "    conv5 = Conv2D(1024, 3, activation = 'relu', padding = 'same', kernel_initializer = 'he_normal')(conv5)\r\n",
        "    drop5 = Dropout(0.5)(conv5)\r\n",
        "\r\n",
        "    up6 = Conv2D(512, 2, activation = 'relu', padding = 'same', kernel_initializer = 'he_normal')(UpSampling2D(size = (2,2))(drop5))\r\n",
        "    merge6 = concatenate([drop4,up6], axis = 3)\r\n",
        "    conv6 = Conv2D(512, 3, activation = 'relu', padding = 'same', kernel_initializer = 'he_normal')(merge6)\r\n",
        "    conv6 = Conv2D(512, 3, activation = 'relu', padding = 'same', kernel_initializer = 'he_normal')(conv6)\r\n",
        "\r\n",
        "    up7 = Conv2D(256, 2, activation = 'relu', padding = 'same', kernel_initializer = 'he_normal')(UpSampling2D(size = (2,2))(conv6))\r\n",
        "    merge7 = concatenate([conv3,up7], axis = 3)\r\n",
        "    conv7 = Conv2D(256, 3, activation = 'relu', padding = 'same', kernel_initializer = 'he_normal')(merge7)\r\n",
        "    conv7 = Conv2D(256, 3, activation = 'relu', padding = 'same', kernel_initializer = 'he_normal')(conv7)\r\n",
        "\r\n",
        "    up8 = Conv2D(128, 2, activation = 'relu', padding = 'same', kernel_initializer = 'he_normal')(UpSampling2D(size = (2,2))(conv7))\r\n",
        "    merge8 = concatenate([conv2,up8], axis = 3)\r\n",
        "    conv8 = Conv2D(128, 3, activation = 'relu', padding = 'same', kernel_initializer = 'he_normal')(merge8)\r\n",
        "    conv8 = Conv2D(128, 3, activation = 'relu', padding = 'same', kernel_initializer = 'he_normal')(conv8)\r\n",
        "\r\n",
        "    up9 = Conv2D(64, 2, activation = 'relu', padding = 'same', kernel_initializer = 'he_normal')(UpSampling2D(size = (2,2))(conv8))\r\n",
        "    merge9 = concatenate([conv1,up9], axis = 3)\r\n",
        "    conv9 = Conv2D(64, 3, activation = 'relu', padding = 'same', kernel_initializer = 'he_normal')(merge9)\r\n",
        "    conv9 = Conv2D(64, 3, activation = 'relu', padding = 'same', kernel_initializer = 'he_normal')(conv9)\r\n",
        "    conv9 = Conv2D(2, 3, activation = 'relu', padding = 'same', kernel_initializer = 'he_normal')(conv9)\r\n",
        "    conv10 = Conv2D(2, 1, activation = 'sigmoid')(conv9)\r\n",
        "\r\n",
        "    model = Model(inputs = inputs, outputs = conv10)\r\n",
        "    metrics = [Precision(name=\"Precision\"), \r\n",
        "                Recall(name=\"Recall\"), \"accuracy\",jaccard_distance]\r\n",
        "    model.compile(optimizer = Adam(lr = 1e-4), loss = 'categorical_crossentropy', metrics = metrics)\r\n",
        "    \r\n",
        "    #model.summary()\r\n",
        "\r\n",
        "    if(pretrained_weights):\r\n",
        "    \tmodel.load_weights(pretrained_weights)\r\n",
        "\r\n",
        "    return model\r\n"
      ],
      "execution_count": null,
      "outputs": []
    },
    {
      "cell_type": "code",
      "metadata": {
        "colab": {
          "base_uri": "https://localhost:8080/"
        },
        "id": "fjSI0rAcxVj8",
        "outputId": "1411065f-a152-40fe-e555-03b78711d497"
      },
      "source": [
        "model = unet2()\r\n",
        "model.summary()"
      ],
      "execution_count": null,
      "outputs": [
        {
          "output_type": "stream",
          "text": [
            "Model: \"functional_1\"\n",
            "__________________________________________________________________________________________________\n",
            "Layer (type)                    Output Shape         Param #     Connected to                     \n",
            "==================================================================================================\n",
            "input_1 (InputLayer)            [(None, 512, 1024, 3 0                                            \n",
            "__________________________________________________________________________________________________\n",
            "conv2d (Conv2D)                 (None, 512, 1024, 32 896         input_1[0][0]                    \n",
            "__________________________________________________________________________________________________\n",
            "conv2d_1 (Conv2D)               (None, 512, 1024, 32 9248        conv2d[0][0]                     \n",
            "__________________________________________________________________________________________________\n",
            "conv2d_2 (Conv2D)               (None, 512, 1024, 64 18496       conv2d_1[0][0]                   \n",
            "__________________________________________________________________________________________________\n",
            "conv2d_3 (Conv2D)               (None, 512, 1024, 64 36928       conv2d_2[0][0]                   \n",
            "__________________________________________________________________________________________________\n",
            "max_pooling2d (MaxPooling2D)    (None, 256, 512, 64) 0           conv2d_3[0][0]                   \n",
            "__________________________________________________________________________________________________\n",
            "conv2d_4 (Conv2D)               (None, 256, 512, 128 73856       max_pooling2d[0][0]              \n",
            "__________________________________________________________________________________________________\n",
            "conv2d_5 (Conv2D)               (None, 256, 512, 128 147584      conv2d_4[0][0]                   \n",
            "__________________________________________________________________________________________________\n",
            "max_pooling2d_1 (MaxPooling2D)  (None, 128, 256, 128 0           conv2d_5[0][0]                   \n",
            "__________________________________________________________________________________________________\n",
            "conv2d_6 (Conv2D)               (None, 128, 256, 256 295168      max_pooling2d_1[0][0]            \n",
            "__________________________________________________________________________________________________\n",
            "conv2d_7 (Conv2D)               (None, 128, 256, 256 590080      conv2d_6[0][0]                   \n",
            "__________________________________________________________________________________________________\n",
            "max_pooling2d_2 (MaxPooling2D)  (None, 64, 128, 256) 0           conv2d_7[0][0]                   \n",
            "__________________________________________________________________________________________________\n",
            "conv2d_8 (Conv2D)               (None, 64, 128, 512) 1180160     max_pooling2d_2[0][0]            \n",
            "__________________________________________________________________________________________________\n",
            "conv2d_9 (Conv2D)               (None, 64, 128, 512) 2359808     conv2d_8[0][0]                   \n",
            "__________________________________________________________________________________________________\n",
            "dropout (Dropout)               (None, 64, 128, 512) 0           conv2d_9[0][0]                   \n",
            "__________________________________________________________________________________________________\n",
            "max_pooling2d_3 (MaxPooling2D)  (None, 32, 64, 512)  0           dropout[0][0]                    \n",
            "__________________________________________________________________________________________________\n",
            "conv2d_10 (Conv2D)              (None, 32, 64, 1024) 4719616     max_pooling2d_3[0][0]            \n",
            "__________________________________________________________________________________________________\n",
            "conv2d_11 (Conv2D)              (None, 32, 64, 1024) 9438208     conv2d_10[0][0]                  \n",
            "__________________________________________________________________________________________________\n",
            "dropout_1 (Dropout)             (None, 32, 64, 1024) 0           conv2d_11[0][0]                  \n",
            "__________________________________________________________________________________________________\n",
            "up_sampling2d (UpSampling2D)    (None, 64, 128, 1024 0           dropout_1[0][0]                  \n",
            "__________________________________________________________________________________________________\n",
            "conv2d_12 (Conv2D)              (None, 64, 128, 512) 2097664     up_sampling2d[0][0]              \n",
            "__________________________________________________________________________________________________\n",
            "concatenate (Concatenate)       (None, 64, 128, 1024 0           dropout[0][0]                    \n",
            "                                                                 conv2d_12[0][0]                  \n",
            "__________________________________________________________________________________________________\n",
            "conv2d_13 (Conv2D)              (None, 64, 128, 512) 4719104     concatenate[0][0]                \n",
            "__________________________________________________________________________________________________\n",
            "conv2d_14 (Conv2D)              (None, 64, 128, 512) 2359808     conv2d_13[0][0]                  \n",
            "__________________________________________________________________________________________________\n",
            "up_sampling2d_1 (UpSampling2D)  (None, 128, 256, 512 0           conv2d_14[0][0]                  \n",
            "__________________________________________________________________________________________________\n",
            "conv2d_15 (Conv2D)              (None, 128, 256, 256 524544      up_sampling2d_1[0][0]            \n",
            "__________________________________________________________________________________________________\n",
            "concatenate_1 (Concatenate)     (None, 128, 256, 512 0           conv2d_7[0][0]                   \n",
            "                                                                 conv2d_15[0][0]                  \n",
            "__________________________________________________________________________________________________\n",
            "conv2d_16 (Conv2D)              (None, 128, 256, 256 1179904     concatenate_1[0][0]              \n",
            "__________________________________________________________________________________________________\n",
            "conv2d_17 (Conv2D)              (None, 128, 256, 256 590080      conv2d_16[0][0]                  \n",
            "__________________________________________________________________________________________________\n",
            "up_sampling2d_2 (UpSampling2D)  (None, 256, 512, 256 0           conv2d_17[0][0]                  \n",
            "__________________________________________________________________________________________________\n",
            "conv2d_18 (Conv2D)              (None, 256, 512, 128 131200      up_sampling2d_2[0][0]            \n",
            "__________________________________________________________________________________________________\n",
            "concatenate_2 (Concatenate)     (None, 256, 512, 256 0           conv2d_5[0][0]                   \n",
            "                                                                 conv2d_18[0][0]                  \n",
            "__________________________________________________________________________________________________\n",
            "conv2d_19 (Conv2D)              (None, 256, 512, 128 295040      concatenate_2[0][0]              \n",
            "__________________________________________________________________________________________________\n",
            "conv2d_20 (Conv2D)              (None, 256, 512, 128 147584      conv2d_19[0][0]                  \n",
            "__________________________________________________________________________________________________\n",
            "up_sampling2d_3 (UpSampling2D)  (None, 512, 1024, 12 0           conv2d_20[0][0]                  \n",
            "__________________________________________________________________________________________________\n",
            "conv2d_21 (Conv2D)              (None, 512, 1024, 64 32832       up_sampling2d_3[0][0]            \n",
            "__________________________________________________________________________________________________\n",
            "concatenate_3 (Concatenate)     (None, 512, 1024, 12 0           conv2d_3[0][0]                   \n",
            "                                                                 conv2d_21[0][0]                  \n",
            "__________________________________________________________________________________________________\n",
            "conv2d_22 (Conv2D)              (None, 512, 1024, 64 73792       concatenate_3[0][0]              \n",
            "__________________________________________________________________________________________________\n",
            "conv2d_23 (Conv2D)              (None, 512, 1024, 64 36928       conv2d_22[0][0]                  \n",
            "__________________________________________________________________________________________________\n",
            "conv2d_24 (Conv2D)              (None, 512, 1024, 2) 1154        conv2d_23[0][0]                  \n",
            "__________________________________________________________________________________________________\n",
            "conv2d_25 (Conv2D)              (None, 512, 1024, 2) 6           conv2d_24[0][0]                  \n",
            "==================================================================================================\n",
            "Total params: 31,059,688\n",
            "Trainable params: 31,059,688\n",
            "Non-trainable params: 0\n",
            "__________________________________________________________________________________________________\n"
          ],
          "name": "stdout"
        }
      ]
    },
    {
      "cell_type": "markdown",
      "metadata": {
        "id": "GV5igi6VHBAT"
      },
      "source": [
        "## Preparación de los Datos\r\n"
      ]
    },
    {
      "cell_type": "code",
      "metadata": {
        "id": "JLVdgt8bHCjr"
      },
      "source": [
        "pathTrain = \"/content/drive/MyDrive/ImagenesVision/Bipbip/Bipbip/Training/Haricot/Images\"\r\n",
        "pathMask = \"/content/drive/MyDrive/ImagenesVision/Bipbip/Bipbip/Training/Haricot/Masks\""
      ],
      "execution_count": null,
      "outputs": []
    },
    {
      "cell_type": "code",
      "metadata": {
        "id": "FO6Xr7GYHRIn"
      },
      "source": [
        "#Almacena nombres de archivos\r\n",
        "import os\r\n",
        "files = [os.path.splitext(f)[0] for f in os.listdir(pathTrain) if f.endswith('.jpg')]# + [f for f in os.listdir(path) if f.endswith('.png')]"
      ],
      "execution_count": null,
      "outputs": []
    },
    {
      "cell_type": "code",
      "metadata": {
        "colab": {
          "base_uri": "https://localhost:8080/"
        },
        "id": "WPu2gtzpHaGT",
        "outputId": "539e7da0-90fe-4e51-9394-b6899babcd19"
      },
      "source": [
        "img= Image.open(pathMask + '/' + files[6] + \".png\") \r\n",
        "np_img = np.array(img) \r\n",
        "np_img.shape"
      ],
      "execution_count": null,
      "outputs": [
        {
          "output_type": "execute_result",
          "data": {
            "text/plain": [
              "(1536, 2048, 3)"
            ]
          },
          "metadata": {
            "tags": []
          },
          "execution_count": 11
        }
      ]
    },
    {
      "cell_type": "code",
      "metadata": {
        "id": "rmW381c4Hmj_"
      },
      "source": [
        "def maskData(files, path, datatype=float):\r\n",
        "  masks = [0]*(4*len(files))\r\n",
        "  for i, datafile in enumerate(files):\r\n",
        "    img= np.array(Image.open(path + '/' + datafile + \".png\"))[:,:,2]\r\n",
        "    masks[4*i] = np.array([#(img<82).astype(datatype),\r\n",
        "                          (img==255).astype(datatype),\r\n",
        "                          (img==82).astype(datatype)]).transpose([0,2,1])[:,0:512,300:1324]\r\n",
        "    masks[4*i+1] = np.array([#(img<82).astype(datatype),\r\n",
        "                          (img==255).astype(datatype),\r\n",
        "                          (img==82).astype(datatype)]).transpose([0,2,1])[:,512:1024,300:1324]\r\n",
        "    masks[4*i+2] = np.array([#(img<82).astype(datatype),\r\n",
        "                          (img==255).astype(datatype),\r\n",
        "                          (img==82).astype(datatype)]).transpose([0,2,1])[:,1024:1536,300:1324]\r\n",
        "    masks[4*i+3] = np.array([#(img<82).astype(datatype),\r\n",
        "                          (img==255).astype(datatype),\r\n",
        "                          (img==82).astype(datatype)]).transpose([0,2,1])[:,1536:2048,300:1324]\r\n",
        "  return masks"
      ],
      "execution_count": null,
      "outputs": []
    },
    {
      "cell_type": "code",
      "metadata": {
        "id": "kO1uUlmtHp3Y"
      },
      "source": [
        "def ImageData(files, path):\r\n",
        "  masks = [0]*(4*len(files))\r\n",
        "  for i, datafile in enumerate(files):\r\n",
        "    img= Image.open(path + '/' + datafile + \".jpg\")\r\n",
        "    masks[4*i] = np.array(img).transpose([1,0,2])[0:512,300:1324,:]/255\r\n",
        "    masks[4*i+1] = np.array(img).transpose([1,0,2])[512:1024,300:1324,:]/255\r\n",
        "    masks[4*i+2] = np.array(img).transpose([1,0,2])[1024:1536,300:1324,:]/255\r\n",
        "    masks[4*i+3] = np.array(img).transpose([1,0,2])[1536:2048,300:1324,:]/255\r\n",
        "  return masks"
      ],
      "execution_count": null,
      "outputs": []
    },
    {
      "cell_type": "code",
      "metadata": {
        "id": "aY148bCVHwZt"
      },
      "source": [
        "idata = np.array(ImageData(files[:30], pathTrain))\r\n",
        "mdata = np.array(maskData(files[:30], pathMask))"
      ],
      "execution_count": null,
      "outputs": []
    },
    {
      "cell_type": "code",
      "metadata": {
        "colab": {
          "base_uri": "https://localhost:8080/"
        },
        "id": "y5nG7yMDH0Wx",
        "outputId": "4396e171-8e4a-4a3c-c277-6838cb78ea7a"
      },
      "source": [
        "mdata.shape, idata.shape"
      ],
      "execution_count": null,
      "outputs": [
        {
          "output_type": "execute_result",
          "data": {
            "text/plain": [
              "((120, 2, 512, 1024), (120, 512, 1024, 3))"
            ]
          },
          "metadata": {
            "tags": []
          },
          "execution_count": 15
        }
      ]
    },
    {
      "cell_type": "code",
      "metadata": {
        "colab": {
          "base_uri": "https://localhost:8080/"
        },
        "id": "5a5L-UiYH7Wm",
        "outputId": "d97ddd8f-92ac-446d-8f06-4a4c634d05fc"
      },
      "source": [
        "input_images, target_masks = idata, mdata\r\n",
        "print(\"input_images shape and range\", input_images.shape, input_images.min(), input_images.max())\r\n",
        "print(\"target_masks shape and range\", target_masks.shape, target_masks.min(), target_masks.max())"
      ],
      "execution_count": null,
      "outputs": [
        {
          "output_type": "stream",
          "text": [
            "input_images shape and range (120, 512, 1024, 3) 0.0 1.0\n",
            "target_masks shape and range (120, 2, 512, 1024) 0.0 1.0\n"
          ],
          "name": "stdout"
        }
      ]
    },
    {
      "cell_type": "code",
      "metadata": {
        "id": "_eXbzANNH_sr"
      },
      "source": [
        "from functools import reduce\r\n",
        "def plot_img_array(img_array, ncol=3):\r\n",
        "    nrow = len(img_array) // ncol\r\n",
        "\r\n",
        "    f, plots = plt.subplots(nrow, ncol, sharex='all', sharey='all', figsize=(ncol * 4, nrow * 4))\r\n",
        "\r\n",
        "    for i in range(len(img_array)):\r\n",
        "        plots[i // ncol, i % ncol]\r\n",
        "        plots[i // ncol, i % ncol].imshow(img_array[i])\r\n",
        "\r\n",
        "def plot_side_by_side(img_arrays):\r\n",
        "    flatten_list = reduce(lambda x,y: x+y, zip(*img_arrays))\r\n",
        "\r\n",
        "    plot_img_array(np.array(flatten_list), ncol=len(img_arrays))"
      ],
      "execution_count": null,
      "outputs": []
    },
    {
      "cell_type": "code",
      "metadata": {
        "id": "uJ1j9xsdIbNI"
      },
      "source": [
        "def convert_mask(data):\r\n",
        "  mask2 = np.zeros((data.shape[0], data.shape[1], data.shape[2],3))\r\n",
        "  for i, image in enumerate(data):\r\n",
        "    mat1 = (data[i,:,:,0]>0.9)\r\n",
        "    mat2 = (data[i,:,:,1]>0.9)\r\n",
        "    for k in range(mat1.shape[0]):\r\n",
        "      for l in range(mat1.shape[1]):\r\n",
        "        if mat1[k,l]:\r\n",
        "          mask2[i,k,l] = np.array([255,255,255])\r\n",
        "        else:\r\n",
        "          mask2[i,k,l] = np.array([0, 0 ,0])\r\n",
        "        if mat2[k,l]:\r\n",
        "          mask2[i,k,l] = np.array([216, 67, 82])\r\n",
        "  return mask2/255"
      ],
      "execution_count": null,
      "outputs": []
    },
    {
      "cell_type": "code",
      "metadata": {
        "id": "PuSJBPf7I6a7"
      },
      "source": [
        "from torch.utils.data import Dataset, DataLoader\r\n",
        "from torchvision import transforms, datasets, models\r\n",
        "\r\n",
        "class SimDataset(Dataset):\r\n",
        "  def __init__(self, count, transform=None):\r\n",
        "    self.input_images, self.target_masks = idata, mdata\r\n",
        "    self.transform = transform\r\n",
        "\r\n",
        "  def __len__(self):\r\n",
        "    return len(self.input_images)\r\n",
        "\r\n",
        "  def __getitem__(self, idx):\r\n",
        "    image = self.input_images[idx]\r\n",
        "    mask = self.target_masks[idx]\r\n",
        "    if self.transform:\r\n",
        "      image = self.transform(image)\r\n",
        "\r\n",
        "    return [image, mask]\r\n",
        "\r\n",
        "# use the same transformations for train/val in this example\r\n",
        "trans = transforms.Compose([\r\n",
        "  transforms.ToTensor(),\r\n",
        "  transforms.Normalize([0.485, 0.456, 0.406], [0.229, 0.224, 0.225]) # imagenet\r\n",
        "])\r\n",
        "\r\n",
        "train_set = SimDataset(2000, transform = trans)\r\n",
        "val_set = SimDataset(200, transform = trans)\r\n",
        "\r\n",
        "image_datasets = {\r\n",
        "  'train': train_set, 'val': val_set\r\n",
        "}\r\n",
        "\r\n",
        "batch_size = 32\r\n",
        "\r\n",
        "dataloaders = {\r\n",
        "  'train': DataLoader(train_set, batch_size=batch_size, shuffle=True, num_workers=2),\r\n",
        "  'val': DataLoader(val_set, batch_size=batch_size, shuffle=True, num_workers=2)\r\n",
        "}"
      ],
      "execution_count": null,
      "outputs": []
    },
    {
      "cell_type": "code",
      "metadata": {
        "id": "yrYdU6A22HzL"
      },
      "source": [
        "import torchvision.utils\r\n",
        "\r\n",
        "def reverse_transform(inp):\r\n",
        "  inp = inp.numpy().transpose((1, 2, 0))\r\n",
        "  mean = np.array([0.485, 0.456, 0.406])\r\n",
        "  std = np.array([0.229, 0.224, 0.225])\r\n",
        "  inp = std * inp + mean\r\n",
        "  inp = np.clip(inp, 0, 1)\r\n",
        "  inp = (inp * 255).astype(np.uint8)\r\n",
        "\r\n",
        "  return inp\r\n",
        "\r\n",
        "def reverse_transform2(inp):\r\n",
        "  inp = inp.numpy().transpose((1, 2, 0))\r\n",
        "  return inp\r\n"
      ],
      "execution_count": null,
      "outputs": []
    },
    {
      "cell_type": "code",
      "metadata": {
        "colab": {
          "base_uri": "https://localhost:8080/",
          "height": 292
        },
        "id": "peki6jDnI97_",
        "outputId": "098524ce-6d5b-4cc2-879b-100219fb0eef"
      },
      "source": [
        "# Get a batch of training data\r\n",
        "inputs, masks = next(iter(dataloaders['train']))\r\n",
        "inputs3, masks3 = next(iter(dataloaders['val']))\r\n",
        "print(inputs.shape, masks.shape)\r\n",
        "\r\n",
        "print(reverse_transform2(inputs[0]).dtype,inputs[0].shape)\r\n",
        "print(inputs.dtype)\r\n",
        "plt.imshow(reverse_transform(inputs[2]))"
      ],
      "execution_count": null,
      "outputs": [
        {
          "output_type": "stream",
          "text": [
            "torch.Size([32, 3, 512, 1024]) torch.Size([32, 2, 512, 1024])\n",
            "float64 torch.Size([3, 512, 1024])\n",
            "torch.float64\n"
          ],
          "name": "stdout"
        },
        {
          "output_type": "execute_result",
          "data": {
            "text/plain": [
              "<matplotlib.image.AxesImage at 0x7fa36413b940>"
            ]
          },
          "metadata": {
            "tags": []
          },
          "execution_count": 22
        },
        {
          "output_type": "display_data",
          "data": {
            "image/png": "[encoded data removed]",
            "text/plain": [
              "<Figure size 432x288 with 1 Axes>"
            ]
          },
          "metadata": {
            "tags": [],
            "needs_background": "light"
          }
        }
      ]
    },
    {
      "cell_type": "markdown",
      "metadata": {
        "id": "rwOkjlvtrvu3"
      },
      "source": [
        "Los datos se asignan a estructuras de Data Sets"
      ]
    },
    {
      "cell_type": "code",
      "metadata": {
        "colab": {
          "base_uri": "https://localhost:8080/"
        },
        "id": "JmmJAeh8LmNK",
        "outputId": "04f4ff6f-3102-44b0-98de-f64f7fa32d46"
      },
      "source": [
        "inputs2 = []\r\n",
        "for i in inputs:\r\n",
        "  inputs2.append(reverse_transform2(i))\r\n",
        "\r\n",
        "masks2 = []\r\n",
        "for i in masks:\r\n",
        "  masks2.append(reverse_transform2(i))\r\n",
        "\r\n",
        "inputs1 = []\r\n",
        "for i in inputs3:\r\n",
        "  inputs1.append(reverse_transform2(i))\r\n",
        "\r\n",
        "masks1 = []\r\n",
        "for i in masks3:\r\n",
        "  masks1.append(reverse_transform2(i))\r\n",
        "\r\n",
        "train1 = tf.data.Dataset.from_tensor_slices((inputs2,masks2))\r\n",
        "val1 = tf.data.Dataset.from_tensor_slices((inputs1,masks1))\r\n",
        "train1 = train1.batch(4)\r\n",
        "val1 = val1.batch(4)\r\n",
        "print(train1)\r\n",
        "#masks2 = np.asarray(masks2)"
      ],
      "execution_count": null,
      "outputs": [
        {
          "output_type": "stream",
          "text": [
            "<BatchDataset shapes: ((None, 512, 1024, 3), (None, 512, 1024, 2)), types: (tf.float64, tf.float64)>\n"
          ],
          "name": "stdout"
        }
      ]
    },
    {
      "cell_type": "code",
      "metadata": {
        "id": "Df6dtpk6YbxU"
      },
      "source": [
        "gc.collect()\r\n",
        "torch.cuda.empty_cache()"
      ],
      "execution_count": null,
      "outputs": []
    },
    {
      "cell_type": "markdown",
      "metadata": {
        "id": "cSmntoQtsB7k"
      },
      "source": [
        "## Entrenamiento"
      ]
    },
    {
      "cell_type": "markdown",
      "metadata": {
        "id": "BXAsZzIFr6Cf"
      },
      "source": [
        "Callback para guardar el modelo"
      ]
    },
    {
      "cell_type": "code",
      "metadata": {
        "id": "LaoiEn0NvaeI"
      },
      "source": [
        "model_checkpoint = ModelCheckpoint('unet.hdf5', monitor='loss',verbose=1, save_best_only=True)"
      ],
      "execution_count": null,
      "outputs": []
    },
    {
      "cell_type": "code",
      "metadata": {
        "colab": {
          "base_uri": "https://localhost:8080/"
        },
        "id": "d3P-4Tw3KR60",
        "outputId": "eda282ea-3171-4a2a-d6ae-87b97983bcaf"
      },
      "source": [
        "model.fit(train1,epochs = 7, validation_data=val1,callbacks=[model_checkpoint])"
      ],
      "execution_count": null,
      "outputs": [
        {
          "output_type": "stream",
          "text": [
            "Epoch 1/7\n",
            "2/8 [======>.......................] - ETA: 7s - loss: 0.0769 - Precision: 0.0968 - Recall: 0.4118 - accuracy: 0.9753 - jaccard_distance: 0.9906WARNING:tensorflow:Callbacks method `on_train_batch_end` is slow compared to the batch time (batch time: 0.8218s vs `on_train_batch_end` time: 1.6221s). Check your callbacks.\n",
            "8/8 [==============================] - ETA: 0s - loss: 0.0980 - Precision: 0.0971 - Recall: 0.7039 - accuracy: 0.9761 - jaccard_distance: 0.9907\n",
            "Epoch 00001: loss improved from inf to 0.09797, saving model to unet.hdf5\n",
            "8/8 [==============================] - 25s 3s/step - loss: 0.0980 - Precision: 0.0971 - Recall: 0.7039 - accuracy: 0.9761 - jaccard_distance: 0.9907 - val_loss: 0.0625 - val_Precision: 0.1058 - val_Recall: 0.8376 - val_accuracy: 0.9795 - val_jaccard_distance: 0.9908\n",
            "Epoch 2/7\n",
            "8/8 [==============================] - ETA: 0s - loss: 0.0775 - Precision: 0.0977 - Recall: 0.8032 - accuracy: 0.9761 - jaccard_distance: 0.9911\n",
            "Epoch 00002: loss improved from 0.09797 to 0.07750, saving model to unet.hdf5\n",
            "8/8 [==============================] - 25s 3s/step - loss: 0.0775 - Precision: 0.0977 - Recall: 0.8032 - accuracy: 0.9761 - jaccard_distance: 0.9911 - val_loss: 0.0537 - val_Precision: 0.1058 - val_Recall: 0.8376 - val_accuracy: 0.9795 - val_jaccard_distance: 0.9911\n",
            "Epoch 3/7\n",
            "8/8 [==============================] - ETA: 0s - loss: 0.0625 - Precision: 0.0977 - Recall: 0.8032 - accuracy: 0.9761 - jaccard_distance: 0.9908\n",
            "Epoch 00003: loss improved from 0.07750 to 0.06255, saving model to unet.hdf5\n",
            "8/8 [==============================] - 25s 3s/step - loss: 0.0625 - Precision: 0.0977 - Recall: 0.8032 - accuracy: 0.9761 - jaccard_distance: 0.9908 - val_loss: 0.0607 - val_Precision: 0.1058 - val_Recall: 0.8376 - val_accuracy: 0.9795 - val_jaccard_distance: 0.9907\n",
            "Epoch 4/7\n",
            "8/8 [==============================] - ETA: 0s - loss: 0.0635 - Precision: 0.0977 - Recall: 0.8032 - accuracy: 0.9761 - jaccard_distance: 0.9909\n",
            "Epoch 00004: loss did not improve from 0.06255\n",
            "8/8 [==============================] - 24s 3s/step - loss: 0.0635 - Precision: 0.0977 - Recall: 0.8032 - accuracy: 0.9761 - jaccard_distance: 0.9909 - val_loss: 0.0519 - val_Precision: 0.1058 - val_Recall: 0.8376 - val_accuracy: 0.9795 - val_jaccard_distance: 0.9911\n",
            "Epoch 5/7\n",
            "8/8 [==============================] - ETA: 0s - loss: 0.0566 - Precision: 0.0977 - Recall: 0.8032 - accuracy: 0.9761 - jaccard_distance: 0.9909\n",
            "Epoch 00005: loss improved from 0.06255 to 0.05659, saving model to unet.hdf5\n",
            "8/8 [==============================] - 25s 3s/step - loss: 0.0566 - Precision: 0.0977 - Recall: 0.8032 - accuracy: 0.9761 - jaccard_distance: 0.9909 - val_loss: 0.0525 - val_Precision: 0.1058 - val_Recall: 0.8376 - val_accuracy: 0.9795 - val_jaccard_distance: 0.9909\n",
            "Epoch 6/7\n",
            "8/8 [==============================] - ETA: 0s - loss: 0.0560 - Precision: 0.0977 - Recall: 0.8032 - accuracy: 0.9761 - jaccard_distance: 0.9908\n",
            "Epoch 00006: loss improved from 0.05659 to 0.05599, saving model to unet.hdf5\n",
            "8/8 [==============================] - 25s 3s/step - loss: 0.0560 - Precision: 0.0977 - Recall: 0.8032 - accuracy: 0.9761 - jaccard_distance: 0.9908 - val_loss: 0.0489 - val_Precision: 0.1058 - val_Recall: 0.8376 - val_accuracy: 0.9795 - val_jaccard_distance: 0.9909\n",
            "Epoch 7/7\n",
            "8/8 [==============================] - ETA: 0s - loss: 0.0529 - Precision: 0.0977 - Recall: 0.8032 - accuracy: 0.9761 - jaccard_distance: 0.9908\n",
            "Epoch 00007: loss improved from 0.05599 to 0.05294, saving model to unet.hdf5\n",
            "8/8 [==============================] - 25s 3s/step - loss: 0.0529 - Precision: 0.0977 - Recall: 0.8032 - accuracy: 0.9761 - jaccard_distance: 0.9908 - val_loss: 0.0474 - val_Precision: 0.1058 - val_Recall: 0.8376 - val_accuracy: 0.9795 - val_jaccard_distance: 0.9909\n"
          ],
          "name": "stdout"
        },
        {
          "output_type": "execute_result",
          "data": {
            "text/plain": [
              "<tensorflow.python.keras.callbacks.History at 0x7fa3c0086080>"
            ]
          },
          "metadata": {
            "tags": []
          },
          "execution_count": 26
        }
      ]
    },
    {
      "cell_type": "code",
      "metadata": {
        "id": "vsKBpEoTnQrD"
      },
      "source": [
        "gc.collect()\r\n",
        "torch.cuda.empty_cache()"
      ],
      "execution_count": null,
      "outputs": []
    },
    {
      "cell_type": "markdown",
      "metadata": {
        "id": "gtK7GYed-G2z"
      },
      "source": [
        "## Predicción"
      ]
    },
    {
      "cell_type": "code",
      "metadata": {
        "id": "6fIP4i7loFIZ",
        "colab": {
          "base_uri": "https://localhost:8080/"
        },
        "outputId": "c38d6d8c-0be4-40e5-81a0-bbfbf3466c32"
      },
      "source": [
        "unet_dir = \"unet.hdf5\"\r\n",
        "\r\n",
        "if os.path.exists(unet_dir):\r\n",
        "    model.load_weights(unet_dir)\r\n",
        "    print(\"Weights Loaded!!\")\r\n",
        "    lr = 1e-4\r\n"
      ],
      "execution_count": null,
      "outputs": [
        {
          "output_type": "stream",
          "text": [
            "Weights Loaded!!\n"
          ],
          "name": "stdout"
        }
      ]
    },
    {
      "cell_type": "code",
      "metadata": {
        "id": "BIe_sL61-I4u"
      },
      "source": [
        "pathTest = \"/content/drive/MyDrive/ImagenesVision/Bipbip/Bipbip/Test_dev/Haricot/Images\""
      ],
      "execution_count": null,
      "outputs": []
    },
    {
      "cell_type": "code",
      "metadata": {
        "id": "o_wMp83a_pM1"
      },
      "source": [
        "files = [os.path.splitext(f)[0] for f in os.listdir(pathTest) if f.endswith('.jpg')]# + [f for f in os.listdir(path) if f.endswith('.png')]"
      ],
      "execution_count": null,
      "outputs": []
    },
    {
      "cell_type": "code",
      "metadata": {
        "id": "AGUgiMT__2qV"
      },
      "source": [
        "tdata = np.array(ImageData(files[:30], pathTest))"
      ],
      "execution_count": null,
      "outputs": []
    },
    {
      "cell_type": "code",
      "metadata": {
        "id": "ozumV8j1oRsi"
      },
      "source": [
        "test_d = [x.transpose([0,1,2]) for x in tdata]"
      ],
      "execution_count": null,
      "outputs": []
    },
    {
      "cell_type": "code",
      "metadata": {
        "id": "i9UB7uFVyzdM"
      },
      "source": [
        "gc.collect()\r\n",
        "torch.cuda.empty_cache()"
      ],
      "execution_count": null,
      "outputs": []
    },
    {
      "cell_type": "code",
      "metadata": {
        "id": "xRwJRY4ky2nJ"
      },
      "source": [
        "test1 = tf.data.Dataset.from_tensor_slices((test_d))\r\n",
        "test2 = test1.batch(9)"
      ],
      "execution_count": null,
      "outputs": []
    },
    {
      "cell_type": "code",
      "metadata": {
        "id": "5gm-E09Si3z9"
      },
      "source": [
        "pred = model.predict(test2)"
      ],
      "execution_count": null,
      "outputs": []
    },
    {
      "cell_type": "code",
      "metadata": {
        "id": "MyoDSEVHj-e4",
        "colab": {
          "base_uri": "https://localhost:8080/"
        },
        "outputId": "699dde6f-15b3-4e5d-9d41-bb1ede49ad94"
      },
      "source": [
        "print('pred.shape', pred.shape)"
      ],
      "execution_count": null,
      "outputs": [
        {
          "output_type": "stream",
          "text": [
            "pred.shape (60, 512, 1024, 2)\n"
          ],
          "name": "stdout"
        }
      ]
    },
    {
      "cell_type": "code",
      "metadata": {
        "id": "fCJqy__PnuPx"
      },
      "source": [
        "np.random.seed(5678)\r\n",
        "random_sample = np.random.choice(len(pred), 9)"
      ],
      "execution_count": null,
      "outputs": []
    },
    {
      "cell_type": "code",
      "metadata": {
        "id": "gCRwQFhAn2iY",
        "colab": {
          "base_uri": "https://localhost:8080/"
        },
        "outputId": "756023b9-1250-4a9d-d5d3-3422b2add86d"
      },
      "source": [
        "sample = pred[random_sample]\r\n",
        "print(sample.shape)"
      ],
      "execution_count": null,
      "outputs": [
        {
          "output_type": "stream",
          "text": [
            "(9, 512, 1024, 2)\n"
          ],
          "name": "stdout"
        }
      ]
    },
    {
      "cell_type": "code",
      "metadata": {
        "id": "686y7lavpIqc"
      },
      "source": [
        "def convert_mask(data):\r\n",
        "  mask2 = np.zeros((data.shape[0], data.shape[1], data.shape[2],3))\r\n",
        "  for i, image in enumerate(data):\r\n",
        "    mat1 = (data[i,:,:,0]>0.9)\r\n",
        "    mat2 = (data[i,:,:,1]>0.9)\r\n",
        "    for k in range(mat1.shape[0]):\r\n",
        "      for l in range(mat1.shape[1]):\r\n",
        "        if mat1[k,l]:\r\n",
        "          mask2[i,k,l] = np.array([255,255,255])\r\n",
        "        else:\r\n",
        "          mask2[i,k,l] = np.array([0, 0 ,0])\r\n",
        "        if mat2[k,l]:\r\n",
        "          mask2[i,k,l] = np.array([216, 67, 82])\r\n",
        "\r\n",
        "        \r\n",
        "  return mask2/255"
      ],
      "execution_count": null,
      "outputs": []
    },
    {
      "cell_type": "code",
      "metadata": {
        "id": "7OGDk6mAn7N2"
      },
      "source": [
        "sample = convert_mask(sample)"
      ],
      "execution_count": null,
      "outputs": []
    },
    {
      "cell_type": "code",
      "metadata": {
        "id": "OObxD6HGpePc",
        "colab": {
          "base_uri": "https://localhost:8080/",
          "height": 256
        },
        "outputId": "61b54086-584b-448d-f59f-3903f2074c7b"
      },
      "source": [
        "print(sample.shape)\r\n",
        "plt.imshow(sample[1])"
      ],
      "execution_count": null,
      "outputs": [
        {
          "output_type": "stream",
          "text": [
            "(9, 512, 1024, 3)\n"
          ],
          "name": "stdout"
        },
        {
          "output_type": "execute_result",
          "data": {
            "text/plain": [
              "<matplotlib.image.AxesImage at 0x7fa36cd5ea20>"
            ]
          },
          "metadata": {
            "tags": []
          },
          "execution_count": 53
        },
        {
          "output_type": "display_data",
          "data": {
            "image/png": "[encoded data removed]",
            "text/plain": [
              "<Figure size 432x288 with 1 Axes>"
            ]
          },
          "metadata": {
            "tags": [],
            "needs_background": "light"
          }
        }
      ]
    },
    {
      "cell_type": "code",
      "metadata": {
        "id": "AijCsheS3Jcf",
        "colab": {
          "base_uri": "https://localhost:8080/"
        },
        "outputId": "3907c798-a39f-4e0a-d42a-a180e629baf6"
      },
      "source": [
        "import math\r\n",
        "\r\n",
        "# Create a new simulation dataset for testing\r\n",
        "test_dataset = SimDataset(3, transform = trans)\r\n",
        "test_loader = DataLoader(test_dataset, batch_size=5, shuffle=False, num_workers=0)\r\n",
        "\r\n",
        "# Get the first batch\r\n",
        "inputs, labels = next(iter(test_loader))\r\n",
        "print('inputs.shape', inputs.shape)\r\n",
        "print('labels.shape', labels.shape)\r\n",
        "testd = []\r\n",
        "for i in inputs:\r\n",
        "  print(i.shape)\r\n",
        "  testd.append(reverse_transform2(i))\r\n",
        "test1 = tf.data.Dataset.from_tensor_slices((testd))\r\n",
        "test1 = test1.batch(9)\r\n",
        "# Predict\r\n",
        "pred = model.predict(test1)\r\n",
        "# The loss functions include the sigmoid function.\r\n",
        "print('pred.shape', pred.shape)\r\n",
        "\r\n",
        "# Change channel-order and make 3 channels for matplot\r\n",
        "input_images_rgb = [x.transpose([1,2,0]) for x in inputs.numpy()]\r\n",
        "\r\n",
        "# Map each channel (i.e. class) to each color\r\n",
        "target_masks_rgb = [x.transpose([1,2,0]) for x in labels.numpy()]\r\n",
        "pred_rgb = [x.transpose([2,0,1]) for x in pred]"
      ],
      "execution_count": null,
      "outputs": [
        {
          "output_type": "stream",
          "text": [
            "inputs.shape torch.Size([5, 3, 512, 1024])\n",
            "labels.shape torch.Size([5, 2, 512, 1024])\n",
            "torch.Size([3, 512, 1024])\n",
            "torch.Size([3, 512, 1024])\n",
            "torch.Size([3, 512, 1024])\n",
            "torch.Size([3, 512, 1024])\n",
            "torch.Size([3, 512, 1024])\n",
            "pred.shape (5, 512, 1024, 2)\n"
          ],
          "name": "stdout"
        }
      ]
    },
    {
      "cell_type": "markdown",
      "metadata": {
        "id": "lwp3K-TJE0ei"
      },
      "source": [
        ""
      ]
    },
    {
      "cell_type": "code",
      "metadata": {
        "id": "XSE8vdO6A-Bf"
      },
      "source": [
        "gc.collect()\r\n",
        "torch.cuda.empty_cache()"
      ],
      "execution_count": null,
      "outputs": []
    },
    {
      "cell_type": "code",
      "metadata": {
        "id": "WY4_GPvx9zyz"
      },
      "source": [
        "def convert_result(mdata):\r\n",
        "  mask2 = np.zeros((mdata.shape[0], mdata.shape[2], mdata.shape[3],3))\r\n",
        "  for i, image in enumerate(mdata):\r\n",
        "    mat1 = (mdata[i,0,:,:]==1)\r\n",
        "    mat2 = (mdata[i,1,:,:]==1)\r\n",
        "    for k in range(mat1.shape[0]):\r\n",
        "      for l in range(mat1.shape[1]):\r\n",
        "        if mat1[k,l]:\r\n",
        "          mask2[i,k,l] = np.array([255,255,255])\r\n",
        "        else:\r\n",
        "          mask2[i,k,l] = np.array([0, 0 ,0])\r\n",
        "        if mat2[k,l]:\r\n",
        "          mask2[i,k,l] = np.array([216, 67, 82])\r\n",
        "  return mask2/255"
      ],
      "execution_count": null,
      "outputs": []
    },
    {
      "cell_type": "code",
      "metadata": {
        "id": "eKX4hjO2FmJe"
      },
      "source": [
        "pred = pred.argmax(axis=1)"
      ],
      "execution_count": null,
      "outputs": []
    },
    {
      "cell_type": "code",
      "metadata": {
        "id": "qwg4y-zcDINp"
      },
      "source": [
        "plot_side_by_side([pred_rgb])"
      ],
      "execution_count": null,
      "outputs": []
    },
    {
      "cell_type": "code",
      "metadata": {
        "id": "73HdbxgB91o9"
      },
      "source": [
        "plot_side_by_side([input_images_rgb, \r\n",
        "                   convert_mask(np.array(target_masks_rgb).transpose([0,3,1,2])),\r\n",
        "                   convert_mask(np.array(pred_rgb).transpose([0,3,1,2]))])"
      ],
      "execution_count": null,
      "outputs": []
    },
    {
      "cell_type": "markdown",
      "metadata": {
        "id": "fhno28LNIaMy"
      },
      "source": [
        "## Validación\r\n"
      ]
    },
    {
      "cell_type": "code",
      "metadata": {
        "id": "hFpUGeCdIbmd",
        "colab": {
          "base_uri": "https://localhost:8080/"
        },
        "outputId": "0d44d0cc-5100-444d-853d-e4a79e295cb5"
      },
      "source": [
        "loss, precision, recall, accuracy, jaccard = model.evaluate(val1,verbose=1)"
      ],
      "execution_count": null,
      "outputs": [
        {
          "output_type": "stream",
          "text": [
            "8/8 [==============================] - 6s 694ms/step - loss: 0.0474 - Precision: 0.1058 - Recall: 0.8376 - accuracy: 0.9795 - jaccard_distance: 0.9909\n"
          ],
          "name": "stdout"
        }
      ]
    },
    {
      "cell_type": "code",
      "metadata": {
        "id": "o1IouFmZIzMc",
        "colab": {
          "base_uri": "https://localhost:8080/"
        },
        "outputId": "69fc21ad-3d50-4c89-8b19-aeafe4e46969"
      },
      "source": [
        "loss"
      ],
      "execution_count": null,
      "outputs": [
        {
          "output_type": "execute_result",
          "data": {
            "text/plain": [
              "0.04740138351917267"
            ]
          },
          "metadata": {
            "tags": []
          },
          "execution_count": 43
        }
      ]
    },
    {
      "cell_type": "code",
      "metadata": {
        "id": "53SQYvQxI0uj",
        "colab": {
          "base_uri": "https://localhost:8080/"
        },
        "outputId": "3fbe950b-db83-4a85-a5ab-ebe6ca20dad1"
      },
      "source": [
        "recall"
      ],
      "execution_count": null,
      "outputs": [
        {
          "output_type": "execute_result",
          "data": {
            "text/plain": [
              "0.837620735168457"
            ]
          },
          "metadata": {
            "tags": []
          },
          "execution_count": 44
        }
      ]
    },
    {
      "cell_type": "code",
      "metadata": {
        "id": "IipOMgQrIz4Y",
        "colab": {
          "base_uri": "https://localhost:8080/"
        },
        "outputId": "e1cc23fb-ea87-467e-b2aa-41d6ee968b5b"
      },
      "source": [
        "precision"
      ],
      "execution_count": null,
      "outputs": [
        {
          "output_type": "execute_result",
          "data": {
            "text/plain": [
              "0.10580451041460037"
            ]
          },
          "metadata": {
            "tags": []
          },
          "execution_count": 45
        }
      ]
    },
    {
      "cell_type": "code",
      "metadata": {
        "id": "rAl9vvboI2ej",
        "colab": {
          "base_uri": "https://localhost:8080/"
        },
        "outputId": "2af55887-85aa-4a27-9265-0afb75fbf6cf"
      },
      "source": [
        "accuracy"
      ],
      "execution_count": null,
      "outputs": [
        {
          "output_type": "execute_result",
          "data": {
            "text/plain": [
              "0.9794889688491821"
            ]
          },
          "metadata": {
            "tags": []
          },
          "execution_count": 46
        }
      ]
    },
    {
      "cell_type": "code",
      "metadata": {
        "colab": {
          "base_uri": "https://localhost:8080/"
        },
        "id": "9A8dSiIGlKjl",
        "outputId": "c2056b50-60d0-4e3f-80e8-d6930fa38374"
      },
      "source": [
        "jaccard"
      ],
      "execution_count": null,
      "outputs": [
        {
          "output_type": "execute_result",
          "data": {
            "text/plain": [
              "0.9908592700958252"
            ]
          },
          "metadata": {
            "tags": []
          },
          "execution_count": 47
        }
      ]
    }
  ]
}